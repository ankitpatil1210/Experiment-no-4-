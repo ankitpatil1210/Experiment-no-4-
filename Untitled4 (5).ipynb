{
  "nbformat": 4,
  "nbformat_minor": 0,
  "metadata": {
    "colab": {
      "name": "Untitled4.ipynb",
      "provenance": []
    },
    "kernelspec": {
      "name": "python3",
      "display_name": "Python 3"
    },
    "language_info": {
      "name": "python"
    }
  },
  "cells": [
    {
      "cell_type": "markdown",
      "source": [
        "write a programe to create,concatenate and print and accessing sub-string from given string"
      ],
      "metadata": {
        "id": "0Bo7NjQ-rAa9"
      }
    },
    {
      "cell_type": "code",
      "source": [
        "s1=input(\"Enter first String : \") \n",
        "s2=input(\"Enter second String : \")\n",
        "print(\"First string is : \",s1)\n",
        "print(\"Second string is : \",s2)\n",
        "print(\"concatenations of two strings :\",s1+s2)\n",
        "print(\"Substring of given string :\",s1[1:3])"
      ],
      "metadata": {
        "colab": {
          "base_uri": "https://localhost:8080/"
        },
        "id": "4FJZbMZ5uIh9",
        "outputId": "e363068e-590e-47c4-fc35-54b4ac39d672"
      },
      "execution_count": 23,
      "outputs": [
        {
          "output_type": "stream",
          "name": "stdout",
          "text": [
            "Enter first String : 6\n",
            "Enter second String : 8\n",
            "First string is :  6\n",
            "Second string is :  8\n",
            "concatenations of two strings : 68\n",
            "Substring of given string : \n"
          ]
        }
      ]
    }
  ]
}